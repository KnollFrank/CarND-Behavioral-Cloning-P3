{
 "cells": [
  {
   "cell_type": "code",
   "execution_count": null,
   "metadata": {},
   "outputs": [],
   "source": [
    "import numpy as np\n",
    "import pandas as pd\n",
    "from scipy import ndimage\n",
    "\n",
    "\n",
    "def get_driving_log():\n",
    "    base_path = '../CarND-Behavioral-Cloning-P3-data_from_udacity/data/'\n",
    "\n",
    "    def correct_path(path):\n",
    "        filename = path.split('/')[-1]\n",
    "        return base_path + 'IMG/' + filename\n",
    "\n",
    "    def correct_path_in_column(df, column):\n",
    "        df[column] = df[column].map(correct_path)\n",
    "\n",
    "    df = pd.read_csv(base_path + 'driving_log.csv')\n",
    "    correct_path_in_column(df, 'center')\n",
    "    correct_path_in_column(df, 'left')\n",
    "    correct_path_in_column(df, 'right')\n",
    "    return df\n",
    "\n",
    "\n",
    "def get_images_and_measurements(size):\n",
    "    df = get_driving_log()[:size]\n",
    "    return pd.DataFrame(\n",
    "        {'image': df['center'].map(ndimage.imread).values,\n",
    "         'measurement': df['steering'].values})\n",
    "\n",
    "\n",
    "def get_data(df, column):\n",
    "    return np.array(df[column].values.tolist())\n",
    "\n",
    "\n",
    "print('get_images_and_measurements ...')\n",
    "images_measurements = get_images_and_measurements(8036)\n",
    "print('... get_images_and_measurements')\n",
    "X_train = get_data(images_measurements, 'image')\n",
    "y_train = get_data(images_measurements, 'measurement')"
   ]
  },
  {
   "cell_type": "code",
   "execution_count": null,
   "metadata": {},
   "outputs": [],
   "source": [
    "import matplotlib.pyplot as plt\n",
    "# Visualizations will be shown in the notebook.\n",
    "%matplotlib inline"
   ]
  },
  {
   "cell_type": "code",
   "execution_count": null,
   "metadata": {},
   "outputs": [],
   "source": [
    "import cv2\n",
    "\n",
    "image = X_train[1100]\n",
    "print(image.shape)\n",
    "plt.imshow(image)\n",
    "plt.show()\n",
    "\n",
    "image_flipped = np.fliplr(image)\n",
    "plt.imshow(image_flipped)\n",
    "plt.show()\n",
    "\n",
    "image = cv2.resize(image, dsize = None, fx = 1/4, fy = 1/4)\n",
    "plt.imshow(image)\n",
    "plt.show()"
   ]
  },
  {
   "cell_type": "code",
   "execution_count": null,
   "metadata": {},
   "outputs": [],
   "source": [
    "import model\n",
    "\n",
    "model = model.create_model_LeNet()"
   ]
  },
  {
   "cell_type": "code",
   "execution_count": null,
   "metadata": {},
   "outputs": [],
   "source": [
    "def plot_model(model, to_file):\n",
    "    from keras.utils import plot_model\n",
    "    from IPython.display import Image\n",
    "    plot_model(model, show_shapes=True, show_layer_names=False, rankdir='TB', to_file=to_file)\n",
    "    return Image(filename=to_file)"
   ]
  },
  {
   "cell_type": "code",
   "execution_count": null,
   "metadata": {},
   "outputs": [],
   "source": [
    "plot_model(model, \"examples/LeNet.jpg\")"
   ]
  },
  {
   "cell_type": "code",
   "execution_count": null,
   "metadata": {},
   "outputs": [],
   "source": [
    "import numpy as np\n",
    "from scipy import ndimage\n",
    "from scipy.misc import imsave\n",
    "from preprocess import preprocess\n",
    "\n",
    "image = ndimage.imread('../CarND-Behavioral-Cloning-P3-data_from_udacity/data/IMG/center_2016_12_01_13_31_15_308.jpg')\n",
    "plt.imshow(image)\n",
    "plt.show()\n",
    "\n",
    "cropped_image = image[70:, :][:-25, :]\n",
    "imsave('examples/center_2016_12_01_13_31_15_308_cropped.jpg', cropped_image)\n",
    "plt.imshow(cropped_image)\n",
    "plt.show()\n",
    "\n",
    "image_flipped = np.fliplr(image)\n",
    "imsave('examples/center_2016_12_01_13_31_15_308_flipped.jpg', image_flipped)\n",
    "plt.imshow(image_flipped)\n",
    "plt.show()\n",
    "\n",
    "preprocessed_image = preprocess(image)\n",
    "plt.imshow(preprocessed_image)\n",
    "imsave('examples/center_2016_12_01_13_31_15_308_quartered.jpg', preprocessed_image)\n",
    "plt.show()"
   ]
  },
  {
   "cell_type": "code",
   "execution_count": null,
   "metadata": {},
   "outputs": [],
   "source": [
    "import matplotlib.pyplot as plt\n",
    "# Visualizations will be shown in the notebook.\n",
    "%matplotlib inline\n",
    "\n",
    "def plot_loss(history_object, savefile):\n",
    "    plt.plot(history_object.history['loss'])\n",
    "    plt.plot(history_object.history['val_loss'])\n",
    "    plt.title('model mean squared error loss')\n",
    "    plt.ylabel('mean squared error loss')\n",
    "    plt.xlabel('epoch')\n",
    "    plt.legend(['training set', 'validation set'], loc='upper right')\n",
    "    plt.savefig(savefile)\n",
    "    plt.show()"
   ]
  },
  {
   "cell_type": "code",
   "execution_count": null,
   "metadata": {},
   "outputs": [],
   "source": [
    "import model as m\n",
    "X_train, y_train = m.get_X_train_y_train()"
   ]
  },
  {
   "cell_type": "code",
   "execution_count": null,
   "metadata": {},
   "outputs": [],
   "source": [
    "def train_and_plot(model, X, y, save_model_2_file, save_fig_2_file):\n",
    "    history_object = m.train(model, X, y, save_model_2_file)\n",
    "    plot_loss(history_object, save_fig_2_file)\n",
    "    print(\"minimal validation loss: {:.5f}\".format(min(history_object.history['val_loss'])))"
   ]
  },
  {
   "cell_type": "code",
   "execution_count": null,
   "metadata": {
    "scrolled": false
   },
   "outputs": [],
   "source": [
    "train_and_plot(m.create_model_simple(), X_train, y_train, save_model_2_file='model_simple.h5', save_fig_2_file='examples/loss_model_simple.png')"
   ]
  },
  {
   "cell_type": "code",
   "execution_count": null,
   "metadata": {},
   "outputs": [],
   "source": [
    "train_and_plot(m.create_model_LeNet(), X_train, y_train, 'model_lenet.h5', save_fig_2_file='examples/loss_model_lenet.png')"
   ]
  },
  {
   "cell_type": "code",
   "execution_count": null,
   "metadata": {},
   "outputs": [],
   "source": [
    "train_and_plot(m.create_model_Nvidia(), X_train, y_train, 'model_nvidia.h5', save_fig_2_file='examples/loss_model_nvidia.png')"
   ]
  },
  {
   "cell_type": "code",
   "execution_count": null,
   "metadata": {},
   "outputs": [],
   "source": []
  }
 ],
 "metadata": {
  "kernelspec": {
   "display_name": "Python 3",
   "language": "python",
   "name": "python3"
  },
  "language_info": {
   "codemirror_mode": {
    "name": "ipython",
    "version": 3
   },
   "file_extension": ".py",
   "mimetype": "text/x-python",
   "name": "python",
   "nbconvert_exporter": "python",
   "pygments_lexer": "ipython3",
   "version": "3.6.5"
  },
  "widgets": {
   "state": {},
   "version": "1.1.2"
  }
 },
 "nbformat": 4,
 "nbformat_minor": 1
}
